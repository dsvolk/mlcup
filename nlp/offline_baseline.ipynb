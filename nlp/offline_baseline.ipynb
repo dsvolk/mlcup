{
  "nbformat": 4,
  "nbformat_minor": 5,
  "metadata": {
    "kernelspec": {
      "display_name": "Python 3",
      "language": "python",
      "name": "python3"
    },
    "language_info": {
      "codemirror_mode": {
        "name": "ipython",
        "version": 3
      },
      "file_extension": ".py",
      "mimetype": "text/x-python",
      "name": "python",
      "nbconvert_exporter": "python",
      "pygments_lexer": "ipython3",
      "version": "3.7.9"
    },
    "colab": {
      "name": "offline_baseline.ipynb",
      "provenance": []
    },
    "accelerator": "GPU",
    "widgets": {
      "application/vnd.jupyter.widget-state+json": {
        "77b1dac6cd4042c78d0701a1ba24d97e": {
          "model_module": "@jupyter-widgets/controls",
          "model_name": "HBoxModel",
          "model_module_version": "1.5.0",
          "state": {
            "_view_name": "HBoxView",
            "_dom_classes": [],
            "_model_name": "HBoxModel",
            "_view_module": "@jupyter-widgets/controls",
            "_model_module_version": "1.5.0",
            "_view_count": null,
            "_view_module_version": "1.5.0",
            "box_style": "",
            "layout": "IPY_MODEL_950512544cae4e62ad9f7558a8cb01bd",
            "_model_module": "@jupyter-widgets/controls",
            "children": [
              "IPY_MODEL_ad95fbe1f1a04e18b055ab7a7b7708dd",
              "IPY_MODEL_ac173b5a9f7b437f95137af43afe5e6a",
              "IPY_MODEL_3f27b6089cee49779c57d326fd1a669c"
            ]
          }
        },
        "950512544cae4e62ad9f7558a8cb01bd": {
          "model_module": "@jupyter-widgets/base",
          "model_name": "LayoutModel",
          "model_module_version": "1.2.0",
          "state": {
            "_view_name": "LayoutView",
            "grid_template_rows": null,
            "right": null,
            "justify_content": null,
            "_view_module": "@jupyter-widgets/base",
            "overflow": null,
            "_model_module_version": "1.2.0",
            "_view_count": null,
            "flex_flow": null,
            "width": null,
            "min_width": null,
            "border": null,
            "align_items": null,
            "bottom": null,
            "_model_module": "@jupyter-widgets/base",
            "top": null,
            "grid_column": null,
            "overflow_y": null,
            "overflow_x": null,
            "grid_auto_flow": null,
            "grid_area": null,
            "grid_template_columns": null,
            "flex": null,
            "_model_name": "LayoutModel",
            "justify_items": null,
            "grid_row": null,
            "max_height": null,
            "align_content": null,
            "visibility": null,
            "align_self": null,
            "height": null,
            "min_height": null,
            "padding": null,
            "grid_auto_rows": null,
            "grid_gap": null,
            "max_width": null,
            "order": null,
            "_view_module_version": "1.2.0",
            "grid_template_areas": null,
            "object_position": null,
            "object_fit": null,
            "grid_auto_columns": null,
            "margin": null,
            "display": null,
            "left": null
          }
        },
        "ad95fbe1f1a04e18b055ab7a7b7708dd": {
          "model_module": "@jupyter-widgets/controls",
          "model_name": "HTMLModel",
          "model_module_version": "1.5.0",
          "state": {
            "_view_name": "HTMLView",
            "style": "IPY_MODEL_533604ba736449c8a01bf38339faec6e",
            "_dom_classes": [],
            "description": "",
            "_model_name": "HTMLModel",
            "placeholder": "​",
            "_view_module": "@jupyter-widgets/controls",
            "_model_module_version": "1.5.0",
            "value": "100%",
            "_view_count": null,
            "_view_module_version": "1.5.0",
            "description_tooltip": null,
            "_model_module": "@jupyter-widgets/controls",
            "layout": "IPY_MODEL_cd2d7948ec3f49f18bfc9f32469d7094"
          }
        },
        "ac173b5a9f7b437f95137af43afe5e6a": {
          "model_module": "@jupyter-widgets/controls",
          "model_name": "FloatProgressModel",
          "model_module_version": "1.5.0",
          "state": {
            "_view_name": "ProgressView",
            "style": "IPY_MODEL_0c1b5b1a7a98446dbeb3f6818e2ea8e0",
            "_dom_classes": [],
            "description": "",
            "_model_name": "FloatProgressModel",
            "bar_style": "success",
            "max": 221,
            "_view_module": "@jupyter-widgets/controls",
            "_model_module_version": "1.5.0",
            "value": 221,
            "_view_count": null,
            "_view_module_version": "1.5.0",
            "orientation": "horizontal",
            "min": 0,
            "description_tooltip": null,
            "_model_module": "@jupyter-widgets/controls",
            "layout": "IPY_MODEL_2c1292ba57ad463f9ef19fe2817f4c9b"
          }
        },
        "3f27b6089cee49779c57d326fd1a669c": {
          "model_module": "@jupyter-widgets/controls",
          "model_name": "HTMLModel",
          "model_module_version": "1.5.0",
          "state": {
            "_view_name": "HTMLView",
            "style": "IPY_MODEL_412ddb26646a4810be3dd426c726e861",
            "_dom_classes": [],
            "description": "",
            "_model_name": "HTMLModel",
            "placeholder": "​",
            "_view_module": "@jupyter-widgets/controls",
            "_model_module_version": "1.5.0",
            "value": " 221/221.0 [00:27&lt;00:00,  8.01it/s]",
            "_view_count": null,
            "_view_module_version": "1.5.0",
            "description_tooltip": null,
            "_model_module": "@jupyter-widgets/controls",
            "layout": "IPY_MODEL_c661ac52aed64c45b0695e1d6c892b95"
          }
        },
        "533604ba736449c8a01bf38339faec6e": {
          "model_module": "@jupyter-widgets/controls",
          "model_name": "DescriptionStyleModel",
          "model_module_version": "1.5.0",
          "state": {
            "_view_name": "StyleView",
            "_model_name": "DescriptionStyleModel",
            "description_width": "",
            "_view_module": "@jupyter-widgets/base",
            "_model_module_version": "1.5.0",
            "_view_count": null,
            "_view_module_version": "1.2.0",
            "_model_module": "@jupyter-widgets/controls"
          }
        },
        "cd2d7948ec3f49f18bfc9f32469d7094": {
          "model_module": "@jupyter-widgets/base",
          "model_name": "LayoutModel",
          "model_module_version": "1.2.0",
          "state": {
            "_view_name": "LayoutView",
            "grid_template_rows": null,
            "right": null,
            "justify_content": null,
            "_view_module": "@jupyter-widgets/base",
            "overflow": null,
            "_model_module_version": "1.2.0",
            "_view_count": null,
            "flex_flow": null,
            "width": null,
            "min_width": null,
            "border": null,
            "align_items": null,
            "bottom": null,
            "_model_module": "@jupyter-widgets/base",
            "top": null,
            "grid_column": null,
            "overflow_y": null,
            "overflow_x": null,
            "grid_auto_flow": null,
            "grid_area": null,
            "grid_template_columns": null,
            "flex": null,
            "_model_name": "LayoutModel",
            "justify_items": null,
            "grid_row": null,
            "max_height": null,
            "align_content": null,
            "visibility": null,
            "align_self": null,
            "height": null,
            "min_height": null,
            "padding": null,
            "grid_auto_rows": null,
            "grid_gap": null,
            "max_width": null,
            "order": null,
            "_view_module_version": "1.2.0",
            "grid_template_areas": null,
            "object_position": null,
            "object_fit": null,
            "grid_auto_columns": null,
            "margin": null,
            "display": null,
            "left": null
          }
        },
        "0c1b5b1a7a98446dbeb3f6818e2ea8e0": {
          "model_module": "@jupyter-widgets/controls",
          "model_name": "ProgressStyleModel",
          "model_module_version": "1.5.0",
          "state": {
            "_view_name": "StyleView",
            "_model_name": "ProgressStyleModel",
            "description_width": "",
            "_view_module": "@jupyter-widgets/base",
            "_model_module_version": "1.5.0",
            "_view_count": null,
            "_view_module_version": "1.2.0",
            "bar_color": null,
            "_model_module": "@jupyter-widgets/controls"
          }
        },
        "2c1292ba57ad463f9ef19fe2817f4c9b": {
          "model_module": "@jupyter-widgets/base",
          "model_name": "LayoutModel",
          "model_module_version": "1.2.0",
          "state": {
            "_view_name": "LayoutView",
            "grid_template_rows": null,
            "right": null,
            "justify_content": null,
            "_view_module": "@jupyter-widgets/base",
            "overflow": null,
            "_model_module_version": "1.2.0",
            "_view_count": null,
            "flex_flow": null,
            "width": null,
            "min_width": null,
            "border": null,
            "align_items": null,
            "bottom": null,
            "_model_module": "@jupyter-widgets/base",
            "top": null,
            "grid_column": null,
            "overflow_y": null,
            "overflow_x": null,
            "grid_auto_flow": null,
            "grid_area": null,
            "grid_template_columns": null,
            "flex": null,
            "_model_name": "LayoutModel",
            "justify_items": null,
            "grid_row": null,
            "max_height": null,
            "align_content": null,
            "visibility": null,
            "align_self": null,
            "height": null,
            "min_height": null,
            "padding": null,
            "grid_auto_rows": null,
            "grid_gap": null,
            "max_width": null,
            "order": null,
            "_view_module_version": "1.2.0",
            "grid_template_areas": null,
            "object_position": null,
            "object_fit": null,
            "grid_auto_columns": null,
            "margin": null,
            "display": null,
            "left": null
          }
        },
        "412ddb26646a4810be3dd426c726e861": {
          "model_module": "@jupyter-widgets/controls",
          "model_name": "DescriptionStyleModel",
          "model_module_version": "1.5.0",
          "state": {
            "_view_name": "StyleView",
            "_model_name": "DescriptionStyleModel",
            "description_width": "",
            "_view_module": "@jupyter-widgets/base",
            "_model_module_version": "1.5.0",
            "_view_count": null,
            "_view_module_version": "1.2.0",
            "_model_module": "@jupyter-widgets/controls"
          }
        },
        "c661ac52aed64c45b0695e1d6c892b95": {
          "model_module": "@jupyter-widgets/base",
          "model_name": "LayoutModel",
          "model_module_version": "1.2.0",
          "state": {
            "_view_name": "LayoutView",
            "grid_template_rows": null,
            "right": null,
            "justify_content": null,
            "_view_module": "@jupyter-widgets/base",
            "overflow": null,
            "_model_module_version": "1.2.0",
            "_view_count": null,
            "flex_flow": null,
            "width": null,
            "min_width": null,
            "border": null,
            "align_items": null,
            "bottom": null,
            "_model_module": "@jupyter-widgets/base",
            "top": null,
            "grid_column": null,
            "overflow_y": null,
            "overflow_x": null,
            "grid_auto_flow": null,
            "grid_area": null,
            "grid_template_columns": null,
            "flex": null,
            "_model_name": "LayoutModel",
            "justify_items": null,
            "grid_row": null,
            "max_height": null,
            "align_content": null,
            "visibility": null,
            "align_self": null,
            "height": null,
            "min_height": null,
            "padding": null,
            "grid_auto_rows": null,
            "grid_gap": null,
            "max_width": null,
            "order": null,
            "_view_module_version": "1.2.0",
            "grid_template_areas": null,
            "object_position": null,
            "object_fit": null,
            "grid_auto_columns": null,
            "margin": null,
            "display": null,
            "left": null
          }
        },
        "0d1b823a3c6447a292f15aed79c7d76b": {
          "model_module": "@jupyter-widgets/controls",
          "model_name": "HBoxModel",
          "model_module_version": "1.5.0",
          "state": {
            "_view_name": "HBoxView",
            "_dom_classes": [],
            "_model_name": "HBoxModel",
            "_view_module": "@jupyter-widgets/controls",
            "_model_module_version": "1.5.0",
            "_view_count": null,
            "_view_module_version": "1.5.0",
            "box_style": "",
            "layout": "IPY_MODEL_241fe047fb8345f0b726cbf037d7a536",
            "_model_module": "@jupyter-widgets/controls",
            "children": [
              "IPY_MODEL_5697c4d58e4947a88feb09a86de64b32",
              "IPY_MODEL_15552653cf59471690b9720a5a73dc52",
              "IPY_MODEL_fbc0bda107474b49bb84f1d6f7ca4171"
            ]
          }
        },
        "241fe047fb8345f0b726cbf037d7a536": {
          "model_module": "@jupyter-widgets/base",
          "model_name": "LayoutModel",
          "model_module_version": "1.2.0",
          "state": {
            "_view_name": "LayoutView",
            "grid_template_rows": null,
            "right": null,
            "justify_content": null,
            "_view_module": "@jupyter-widgets/base",
            "overflow": null,
            "_model_module_version": "1.2.0",
            "_view_count": null,
            "flex_flow": null,
            "width": null,
            "min_width": null,
            "border": null,
            "align_items": null,
            "bottom": null,
            "_model_module": "@jupyter-widgets/base",
            "top": null,
            "grid_column": null,
            "overflow_y": null,
            "overflow_x": null,
            "grid_auto_flow": null,
            "grid_area": null,
            "grid_template_columns": null,
            "flex": null,
            "_model_name": "LayoutModel",
            "justify_items": null,
            "grid_row": null,
            "max_height": null,
            "align_content": null,
            "visibility": null,
            "align_self": null,
            "height": null,
            "min_height": null,
            "padding": null,
            "grid_auto_rows": null,
            "grid_gap": null,
            "max_width": null,
            "order": null,
            "_view_module_version": "1.2.0",
            "grid_template_areas": null,
            "object_position": null,
            "object_fit": null,
            "grid_auto_columns": null,
            "margin": null,
            "display": null,
            "left": null
          }
        },
        "5697c4d58e4947a88feb09a86de64b32": {
          "model_module": "@jupyter-widgets/controls",
          "model_name": "HTMLModel",
          "model_module_version": "1.5.0",
          "state": {
            "_view_name": "HTMLView",
            "style": "IPY_MODEL_43237e4fea4f4dd6a70f8cad205dc92f",
            "_dom_classes": [],
            "description": "",
            "_model_name": "HTMLModel",
            "placeholder": "​",
            "_view_module": "@jupyter-widgets/controls",
            "_model_module_version": "1.5.0",
            "value": "  0%",
            "_view_count": null,
            "_view_module_version": "1.5.0",
            "description_tooltip": null,
            "_model_module": "@jupyter-widgets/controls",
            "layout": "IPY_MODEL_5846910703ac4ce0b2cbd068a35d52c2"
          }
        },
        "15552653cf59471690b9720a5a73dc52": {
          "model_module": "@jupyter-widgets/controls",
          "model_name": "FloatProgressModel",
          "model_module_version": "1.5.0",
          "state": {
            "_view_name": "ProgressView",
            "style": "IPY_MODEL_1f4a97dd54284a57a54d03750e555ae2",
            "_dom_classes": [],
            "description": "",
            "_model_name": "FloatProgressModel",
            "bar_style": "",
            "max": 2500,
            "_view_module": "@jupyter-widgets/controls",
            "_model_module_version": "1.5.0",
            "value": 0,
            "_view_count": null,
            "_view_module_version": "1.5.0",
            "orientation": "horizontal",
            "min": 0,
            "description_tooltip": null,
            "_model_module": "@jupyter-widgets/controls",
            "layout": "IPY_MODEL_0c261a2daae54a8e9fe7e59dc6cbb34f"
          }
        },
        "fbc0bda107474b49bb84f1d6f7ca4171": {
          "model_module": "@jupyter-widgets/controls",
          "model_name": "HTMLModel",
          "model_module_version": "1.5.0",
          "state": {
            "_view_name": "HTMLView",
            "style": "IPY_MODEL_24a27e51047d4dbfa6f1426ee32a5ac1",
            "_dom_classes": [],
            "description": "",
            "_model_name": "HTMLModel",
            "placeholder": "​",
            "_view_module": "@jupyter-widgets/controls",
            "_model_module_version": "1.5.0",
            "value": " 0/2500 [00:00&lt;?, ?it/s]",
            "_view_count": null,
            "_view_module_version": "1.5.0",
            "description_tooltip": null,
            "_model_module": "@jupyter-widgets/controls",
            "layout": "IPY_MODEL_96cbbfceee974200ba15e08d8299b2fb"
          }
        },
        "43237e4fea4f4dd6a70f8cad205dc92f": {
          "model_module": "@jupyter-widgets/controls",
          "model_name": "DescriptionStyleModel",
          "model_module_version": "1.5.0",
          "state": {
            "_view_name": "StyleView",
            "_model_name": "DescriptionStyleModel",
            "description_width": "",
            "_view_module": "@jupyter-widgets/base",
            "_model_module_version": "1.5.0",
            "_view_count": null,
            "_view_module_version": "1.2.0",
            "_model_module": "@jupyter-widgets/controls"
          }
        },
        "5846910703ac4ce0b2cbd068a35d52c2": {
          "model_module": "@jupyter-widgets/base",
          "model_name": "LayoutModel",
          "model_module_version": "1.2.0",
          "state": {
            "_view_name": "LayoutView",
            "grid_template_rows": null,
            "right": null,
            "justify_content": null,
            "_view_module": "@jupyter-widgets/base",
            "overflow": null,
            "_model_module_version": "1.2.0",
            "_view_count": null,
            "flex_flow": null,
            "width": null,
            "min_width": null,
            "border": null,
            "align_items": null,
            "bottom": null,
            "_model_module": "@jupyter-widgets/base",
            "top": null,
            "grid_column": null,
            "overflow_y": null,
            "overflow_x": null,
            "grid_auto_flow": null,
            "grid_area": null,
            "grid_template_columns": null,
            "flex": null,
            "_model_name": "LayoutModel",
            "justify_items": null,
            "grid_row": null,
            "max_height": null,
            "align_content": null,
            "visibility": null,
            "align_self": null,
            "height": null,
            "min_height": null,
            "padding": null,
            "grid_auto_rows": null,
            "grid_gap": null,
            "max_width": null,
            "order": null,
            "_view_module_version": "1.2.0",
            "grid_template_areas": null,
            "object_position": null,
            "object_fit": null,
            "grid_auto_columns": null,
            "margin": null,
            "display": null,
            "left": null
          }
        },
        "1f4a97dd54284a57a54d03750e555ae2": {
          "model_module": "@jupyter-widgets/controls",
          "model_name": "ProgressStyleModel",
          "model_module_version": "1.5.0",
          "state": {
            "_view_name": "StyleView",
            "_model_name": "ProgressStyleModel",
            "description_width": "",
            "_view_module": "@jupyter-widgets/base",
            "_model_module_version": "1.5.0",
            "_view_count": null,
            "_view_module_version": "1.2.0",
            "bar_color": null,
            "_model_module": "@jupyter-widgets/controls"
          }
        },
        "0c261a2daae54a8e9fe7e59dc6cbb34f": {
          "model_module": "@jupyter-widgets/base",
          "model_name": "LayoutModel",
          "model_module_version": "1.2.0",
          "state": {
            "_view_name": "LayoutView",
            "grid_template_rows": null,
            "right": null,
            "justify_content": null,
            "_view_module": "@jupyter-widgets/base",
            "overflow": null,
            "_model_module_version": "1.2.0",
            "_view_count": null,
            "flex_flow": null,
            "width": null,
            "min_width": null,
            "border": null,
            "align_items": null,
            "bottom": null,
            "_model_module": "@jupyter-widgets/base",
            "top": null,
            "grid_column": null,
            "overflow_y": null,
            "overflow_x": null,
            "grid_auto_flow": null,
            "grid_area": null,
            "grid_template_columns": null,
            "flex": null,
            "_model_name": "LayoutModel",
            "justify_items": null,
            "grid_row": null,
            "max_height": null,
            "align_content": null,
            "visibility": null,
            "align_self": null,
            "height": null,
            "min_height": null,
            "padding": null,
            "grid_auto_rows": null,
            "grid_gap": null,
            "max_width": null,
            "order": null,
            "_view_module_version": "1.2.0",
            "grid_template_areas": null,
            "object_position": null,
            "object_fit": null,
            "grid_auto_columns": null,
            "margin": null,
            "display": null,
            "left": null
          }
        },
        "24a27e51047d4dbfa6f1426ee32a5ac1": {
          "model_module": "@jupyter-widgets/controls",
          "model_name": "DescriptionStyleModel",
          "model_module_version": "1.5.0",
          "state": {
            "_view_name": "StyleView",
            "_model_name": "DescriptionStyleModel",
            "description_width": "",
            "_view_module": "@jupyter-widgets/base",
            "_model_module_version": "1.5.0",
            "_view_count": null,
            "_view_module_version": "1.2.0",
            "_model_module": "@jupyter-widgets/controls"
          }
        },
        "96cbbfceee974200ba15e08d8299b2fb": {
          "model_module": "@jupyter-widgets/base",
          "model_name": "LayoutModel",
          "model_module_version": "1.2.0",
          "state": {
            "_view_name": "LayoutView",
            "grid_template_rows": null,
            "right": null,
            "justify_content": null,
            "_view_module": "@jupyter-widgets/base",
            "overflow": null,
            "_model_module_version": "1.2.0",
            "_view_count": null,
            "flex_flow": null,
            "width": null,
            "min_width": null,
            "border": null,
            "align_items": null,
            "bottom": null,
            "_model_module": "@jupyter-widgets/base",
            "top": null,
            "grid_column": null,
            "overflow_y": null,
            "overflow_x": null,
            "grid_auto_flow": null,
            "grid_area": null,
            "grid_template_columns": null,
            "flex": null,
            "_model_name": "LayoutModel",
            "justify_items": null,
            "grid_row": null,
            "max_height": null,
            "align_content": null,
            "visibility": null,
            "align_self": null,
            "height": null,
            "min_height": null,
            "padding": null,
            "grid_auto_rows": null,
            "grid_gap": null,
            "max_width": null,
            "order": null,
            "_view_module_version": "1.2.0",
            "grid_template_areas": null,
            "object_position": null,
            "object_fit": null,
            "grid_auto_columns": null,
            "margin": null,
            "display": null,
            "left": null
          }
        }
      }
    }
  },
  "cells": [
    {
      "cell_type": "markdown",
      "metadata": {
        "id": "qNnuNaRtvmMC"
      },
      "source": [
        "Загружаем скачанный классификатор токсичности:"
      ],
      "id": "qNnuNaRtvmMC"
    },
    {
      "cell_type": "code",
      "metadata": {
        "id": "1Fjhfk7YBJVh",
        "colab": {
          "base_uri": "https://localhost:8080/"
        },
        "outputId": "8a52ba62-03d8-463d-fa9d-68b68f7b9b9d"
      },
      "source": [
        "from google.colab import drive\n",
        "drive.mount('/content/drive')"
      ],
      "id": "1Fjhfk7YBJVh",
      "execution_count": 2,
      "outputs": [
        {
          "output_type": "stream",
          "name": "stdout",
          "text": [
            "Mounted at /content/drive\n"
          ]
        }
      ]
    },
    {
      "cell_type": "code",
      "metadata": {
        "id": "iEnrpOzVvnvk",
        "colab": {
          "base_uri": "https://localhost:8080/"
        },
        "outputId": "2d6995b9-31f1-44ea-9133-dd77e068aa20"
      },
      "source": [
        "!pip install transformers torch sentencepiece gensim"
      ],
      "id": "iEnrpOzVvnvk",
      "execution_count": 3,
      "outputs": [
        {
          "output_type": "stream",
          "name": "stdout",
          "text": [
            "Collecting transformers\n",
            "  Downloading transformers-4.11.3-py3-none-any.whl (2.9 MB)\n",
            "\u001b[K     |████████████████████████████████| 2.9 MB 5.3 MB/s \n",
            "\u001b[?25hRequirement already satisfied: torch in /usr/local/lib/python3.7/dist-packages (1.9.0+cu111)\n",
            "Collecting sentencepiece\n",
            "  Downloading sentencepiece-0.1.96-cp37-cp37m-manylinux_2_17_x86_64.manylinux2014_x86_64.whl (1.2 MB)\n",
            "\u001b[K     |████████████████████████████████| 1.2 MB 36.1 MB/s \n",
            "\u001b[?25hRequirement already satisfied: gensim in /usr/local/lib/python3.7/dist-packages (3.6.0)\n",
            "Collecting tokenizers<0.11,>=0.10.1\n",
            "  Downloading tokenizers-0.10.3-cp37-cp37m-manylinux_2_5_x86_64.manylinux1_x86_64.manylinux_2_12_x86_64.manylinux2010_x86_64.whl (3.3 MB)\n",
            "\u001b[K     |████████████████████████████████| 3.3 MB 34.9 MB/s \n",
            "\u001b[?25hCollecting huggingface-hub>=0.0.17\n",
            "  Downloading huggingface_hub-0.0.19-py3-none-any.whl (56 kB)\n",
            "\u001b[K     |████████████████████████████████| 56 kB 3.8 MB/s \n",
            "\u001b[?25hRequirement already satisfied: importlib-metadata in /usr/local/lib/python3.7/dist-packages (from transformers) (4.8.1)\n",
            "Requirement already satisfied: filelock in /usr/local/lib/python3.7/dist-packages (from transformers) (3.3.0)\n",
            "Requirement already satisfied: packaging>=20.0 in /usr/local/lib/python3.7/dist-packages (from transformers) (21.0)\n",
            "Requirement already satisfied: requests in /usr/local/lib/python3.7/dist-packages (from transformers) (2.23.0)\n",
            "Collecting sacremoses\n",
            "  Downloading sacremoses-0.0.46-py3-none-any.whl (895 kB)\n",
            "\u001b[K     |████████████████████████████████| 895 kB 38.1 MB/s \n",
            "\u001b[?25hCollecting pyyaml>=5.1\n",
            "  Downloading PyYAML-6.0-cp37-cp37m-manylinux_2_5_x86_64.manylinux1_x86_64.manylinux_2_12_x86_64.manylinux2010_x86_64.whl (596 kB)\n",
            "\u001b[K     |████████████████████████████████| 596 kB 39.1 MB/s \n",
            "\u001b[?25hRequirement already satisfied: numpy>=1.17 in /usr/local/lib/python3.7/dist-packages (from transformers) (1.19.5)\n",
            "Requirement already satisfied: tqdm>=4.27 in /usr/local/lib/python3.7/dist-packages (from transformers) (4.62.3)\n",
            "Requirement already satisfied: regex!=2019.12.17 in /usr/local/lib/python3.7/dist-packages (from transformers) (2019.12.20)\n",
            "Requirement already satisfied: typing-extensions in /usr/local/lib/python3.7/dist-packages (from huggingface-hub>=0.0.17->transformers) (3.7.4.3)\n",
            "Requirement already satisfied: pyparsing>=2.0.2 in /usr/local/lib/python3.7/dist-packages (from packaging>=20.0->transformers) (2.4.7)\n",
            "Requirement already satisfied: scipy>=0.18.1 in /usr/local/lib/python3.7/dist-packages (from gensim) (1.4.1)\n",
            "Requirement already satisfied: smart-open>=1.2.1 in /usr/local/lib/python3.7/dist-packages (from gensim) (5.2.1)\n",
            "Requirement already satisfied: six>=1.5.0 in /usr/local/lib/python3.7/dist-packages (from gensim) (1.15.0)\n",
            "Requirement already satisfied: zipp>=0.5 in /usr/local/lib/python3.7/dist-packages (from importlib-metadata->transformers) (3.6.0)\n",
            "Requirement already satisfied: idna<3,>=2.5 in /usr/local/lib/python3.7/dist-packages (from requests->transformers) (2.10)\n",
            "Requirement already satisfied: urllib3!=1.25.0,!=1.25.1,<1.26,>=1.21.1 in /usr/local/lib/python3.7/dist-packages (from requests->transformers) (1.24.3)\n",
            "Requirement already satisfied: certifi>=2017.4.17 in /usr/local/lib/python3.7/dist-packages (from requests->transformers) (2021.5.30)\n",
            "Requirement already satisfied: chardet<4,>=3.0.2 in /usr/local/lib/python3.7/dist-packages (from requests->transformers) (3.0.4)\n",
            "Requirement already satisfied: joblib in /usr/local/lib/python3.7/dist-packages (from sacremoses->transformers) (1.0.1)\n",
            "Requirement already satisfied: click in /usr/local/lib/python3.7/dist-packages (from sacremoses->transformers) (7.1.2)\n",
            "Installing collected packages: pyyaml, tokenizers, sacremoses, huggingface-hub, transformers, sentencepiece\n",
            "  Attempting uninstall: pyyaml\n",
            "    Found existing installation: PyYAML 3.13\n",
            "    Uninstalling PyYAML-3.13:\n",
            "      Successfully uninstalled PyYAML-3.13\n",
            "Successfully installed huggingface-hub-0.0.19 pyyaml-6.0 sacremoses-0.0.46 sentencepiece-0.1.96 tokenizers-0.10.3 transformers-4.11.3\n"
          ]
        }
      ]
    },
    {
      "cell_type": "code",
      "metadata": {
        "id": "a2gBeiza5JrY"
      },
      "source": [
        "import pandas as pd\n",
        "import numpy as np"
      ],
      "id": "a2gBeiza5JrY",
      "execution_count": 4,
      "outputs": []
    },
    {
      "cell_type": "code",
      "metadata": {
        "id": "g1PkmUeCvmMG"
      },
      "source": [
        "from transformers import AutoTokenizer, AutoModelForSequenceClassification\n",
        "\n",
        "# path_ro_roberta = \"unitary/multilingual-toxic-xlm-roberta\"\n",
        "path_to_roberta = \"/content/drive/MyDrive/Yandex-MLCup-2021/nlp/trained_roberta\"\n",
        "tokenizer = AutoTokenizer.from_pretrained(path_to_roberta)\n",
        "\n",
        "model = AutoModelForSequenceClassification.from_pretrained(path_to_roberta).cuda()\n",
        "\n",
        "TOXIC_CLASS=-1\n",
        "TOKENIZATION_TYPE='sentencepiece'\n"
      ],
      "id": "g1PkmUeCvmMG",
      "execution_count": 9,
      "outputs": []
    },
    {
      "cell_type": "markdown",
      "metadata": {
        "id": "OM38NdMlvmMI"
      },
      "source": [
        "Ниже функции для применения классификатора"
      ],
      "id": "OM38NdMlvmMI"
    },
    {
      "cell_type": "code",
      "metadata": {
        "id": "yoQ4h-fkvmMI"
      },
      "source": [
        "from torch import softmax, sigmoid\n",
        "import numpy as np\n",
        "\n",
        "\n",
        "ALLOWED_ALPHABET=list(map(chr, range(ord('а'), ord('я') + 1)))\n",
        "ALLOWED_ALPHABET.extend(map(chr, range(ord('a'), ord('z') + 1)))\n",
        "ALLOWED_ALPHABET.extend(list(map(str.upper, ALLOWED_ALPHABET)))\n",
        "ALLOWED_ALPHABET = set(ALLOWED_ALPHABET)\n",
        "\n",
        "\n",
        "def logits_to_toxic_probas(logits):\n",
        "    if logits.shape[-1] > 1:\n",
        "        activation = lambda x: softmax(x, -1)\n",
        "    else:\n",
        "        activation = sigmoid\n",
        "    return activation(logits)[:, TOXIC_CLASS].cpu().detach().numpy()\n",
        "\n",
        "\n",
        "def is_word_start(token):\n",
        "    if TOKENIZATION_TYPE == 'sentencepiece':\n",
        "        return token.startswith('▁')\n",
        "    if TOKENIZATION_TYPE == 'bert':\n",
        "        return not token.startswith('##')\n",
        "    raise ValueError(\"Unknown tokenization type\")\n",
        "\n",
        "\n",
        "def normalize(sentence, max_tokens_per_word=20):\n",
        "    sentence = ''.join(map(lambda c: c if c.isalpha() else ' ', sentence.lower()))\n",
        "    ids = tokenizer(sentence)['input_ids']\n",
        "    tokens = tokenizer.convert_ids_to_tokens(ids)[1:-1]\n",
        "    \n",
        "    result = []\n",
        "    num_continuation_tokens = 0\n",
        "    for token in tokens:\n",
        "        if not is_word_start(token):\n",
        "            num_continuation_tokens += 1\n",
        "            if num_continuation_tokens < max_tokens_per_word:\n",
        "                result.append(token.lstrip('#▁'))\n",
        "        else:\n",
        "            num_continuation_tokens = 0\n",
        "            result.extend([' ', token.lstrip('▁#')])\n",
        "    \n",
        "    return ''.join(result).strip()\n",
        "\n",
        "def iterate_batches(data, batch_size=40):\n",
        "    batch = []\n",
        "    for x in data:\n",
        "        batch.append(x)\n",
        "        if len(batch) >= batch_size:\n",
        "            yield batch\n",
        "            batch = []\n",
        "    if len(batch) > 0:\n",
        "        yield batch\n",
        "\n",
        "from tqdm.auto import tqdm\n",
        "def predict_toxicity(sentences, batch_size=5, threshold=0.5, return_scores=False, verbose=True, device='cuda'):\n",
        "    results = []\n",
        "    tqdm_fn = tqdm if verbose else lambda x, total: x\n",
        "    for batch in tqdm_fn(iterate_batches(sentences, batch_size), total=np.ceil(len(sentences) / batch_size)):\n",
        "        normlized = [normalize(sent, max_tokens_per_word=5) for sent in batch]\n",
        "        tokenized = tokenizer(normlized, return_tensors='pt', padding=True, max_length=512, truncation=True)\n",
        "        \n",
        "        logits = model.to(device)(**{key: val.to(device) for key, val in tokenized.items()}).logits\n",
        "        preds = logits_to_toxic_probas(logits)\n",
        "        if not return_scores:\n",
        "            preds = preds >= threshold\n",
        "        results.extend(preds)\n",
        "    return results\n"
      ],
      "id": "yoQ4h-fkvmMI",
      "execution_count": 10,
      "outputs": []
    },
    {
      "cell_type": "markdown",
      "metadata": {
        "id": "rLQw8p6XvmMJ"
      },
      "source": [
        "Читаем тестовый набор"
      ],
      "id": "rLQw8p6XvmMJ"
    },
    {
      "cell_type": "code",
      "metadata": {
        "id": "81N-SKC-vmMK",
        "colab": {
          "base_uri": "https://localhost:8080/"
        },
        "outputId": "2e58d13f-cd7e-4096-f371-eeac44bbf7bf"
      },
      "source": [
        "texts = []\n",
        "with open(\"/content/drive/MyDrive/Yandex-MLCup-2021/nlp/public_testset.txt\", 'rt') as f:\n",
        "    for line in f:\n",
        "        texts.append(normalize(line)) "
      ],
      "id": "81N-SKC-vmMK",
      "execution_count": 12,
      "outputs": [
        {
          "output_type": "stream",
          "name": "stderr",
          "text": [
            "Token indices sequence length is longer than the specified maximum sequence length for this model (533 > 512). Running this sequence through the model will result in indexing errors\n"
          ]
        }
      ]
    },
    {
      "cell_type": "markdown",
      "metadata": {
        "id": "AAhIQULDvmML"
      },
      "source": [
        "Вычисляем токсичность отдельных слов"
      ],
      "id": "AAhIQULDvmML"
    },
    {
      "cell_type": "code",
      "metadata": {
        "id": "osxRmC1UvmML",
        "colab": {
          "base_uri": "https://localhost:8080/",
          "height": 49,
          "referenced_widgets": [
            "77b1dac6cd4042c78d0701a1ba24d97e",
            "950512544cae4e62ad9f7558a8cb01bd",
            "ad95fbe1f1a04e18b055ab7a7b7708dd",
            "ac173b5a9f7b437f95137af43afe5e6a",
            "3f27b6089cee49779c57d326fd1a669c",
            "533604ba736449c8a01bf38339faec6e",
            "cd2d7948ec3f49f18bfc9f32469d7094",
            "0c1b5b1a7a98446dbeb3f6818e2ea8e0",
            "2c1292ba57ad463f9ef19fe2817f4c9b",
            "412ddb26646a4810be3dd426c726e861",
            "c661ac52aed64c45b0695e1d6c892b95"
          ]
        },
        "outputId": "60bcee93-a4dc-4c81-e3c9-92d06c837ab2"
      },
      "source": [
        "import torch\n",
        "\n",
        "words = set()\n",
        "for text in texts:\n",
        "    words.update(text.split())\n",
        "words = sorted(words)\n",
        "\n",
        "with torch.inference_mode():\n",
        "    word_toxicities = predict_toxicity(words, batch_size=100, return_scores=True)\n",
        "    \n",
        "toxicity = dict(zip(words, word_toxicities))\n"
      ],
      "id": "osxRmC1UvmML",
      "execution_count": 13,
      "outputs": [
        {
          "output_type": "display_data",
          "data": {
            "application/vnd.jupyter.widget-view+json": {
              "model_id": "77b1dac6cd4042c78d0701a1ba24d97e",
              "version_minor": 0,
              "version_major": 2
            },
            "text/plain": [
              "  0%|          | 0/221.0 [00:00<?, ?it/s]"
            ]
          },
          "metadata": {}
        }
      ]
    },
    {
      "cell_type": "markdown",
      "metadata": {
        "id": "-nU0Df4ivmMM"
      },
      "source": [
        "Ниже читаем эмбеддинги слов и описываем функции их обработки"
      ],
      "id": "-nU0Df4ivmMM"
    },
    {
      "cell_type": "code",
      "metadata": {
        "id": "dky3zhpl491q"
      },
      "source": [
        "word_toxicity_df = pd.DataFrame.from_dict({'word': words, 'toxicity': word_toxicities})"
      ],
      "id": "dky3zhpl491q",
      "execution_count": 14,
      "outputs": []
    },
    {
      "cell_type": "code",
      "metadata": {
        "id": "W8Dsf0wh5pPo",
        "colab": {
          "base_uri": "https://localhost:8080/",
          "height": 669
        },
        "outputId": "c49688e9-acfd-4e0d-dc0b-0cb7120649f3"
      },
      "source": [
        "word_toxicity_df.sort_values(by='toxicity', ascending=False).head(20)"
      ],
      "id": "W8Dsf0wh5pPo",
      "execution_count": 15,
      "outputs": [
        {
          "output_type": "execute_result",
          "data": {
            "text/html": [
              "<div>\n",
              "<style scoped>\n",
              "    .dataframe tbody tr th:only-of-type {\n",
              "        vertical-align: middle;\n",
              "    }\n",
              "\n",
              "    .dataframe tbody tr th {\n",
              "        vertical-align: top;\n",
              "    }\n",
              "\n",
              "    .dataframe thead th {\n",
              "        text-align: right;\n",
              "    }\n",
              "</style>\n",
              "<table border=\"1\" class=\"dataframe\">\n",
              "  <thead>\n",
              "    <tr style=\"text-align: right;\">\n",
              "      <th></th>\n",
              "      <th>word</th>\n",
              "      <th>toxicity</th>\n",
              "    </tr>\n",
              "  </thead>\n",
              "  <tbody>\n",
              "    <tr>\n",
              "      <th>12400</th>\n",
              "      <td>педерастов</td>\n",
              "      <td>0.990629</td>\n",
              "    </tr>\n",
              "    <tr>\n",
              "      <th>19785</th>\n",
              "      <td>ублюдочных</td>\n",
              "      <td>0.990629</td>\n",
              "    </tr>\n",
              "    <tr>\n",
              "      <th>12721</th>\n",
              "      <td>пиндосов</td>\n",
              "      <td>0.990628</td>\n",
              "    </tr>\n",
              "    <tr>\n",
              "      <th>19784</th>\n",
              "      <td>ублюдок</td>\n",
              "      <td>0.990627</td>\n",
              "    </tr>\n",
              "    <tr>\n",
              "      <th>4806</th>\n",
              "      <td>ебанутых</td>\n",
              "      <td>0.990624</td>\n",
              "    </tr>\n",
              "    <tr>\n",
              "      <th>20263</th>\n",
              "      <td>уродуйбезкультурье</td>\n",
              "      <td>0.990622</td>\n",
              "    </tr>\n",
              "    <tr>\n",
              "      <th>2923</th>\n",
              "      <td>выродки</td>\n",
              "      <td>0.990622</td>\n",
              "    </tr>\n",
              "    <tr>\n",
              "      <th>4428</th>\n",
              "      <td>долбоящеры</td>\n",
              "      <td>0.990617</td>\n",
              "    </tr>\n",
              "    <tr>\n",
              "      <th>12720</th>\n",
              "      <td>пиндосии</td>\n",
              "      <td>0.990608</td>\n",
              "    </tr>\n",
              "    <tr>\n",
              "      <th>12697</th>\n",
              "      <td>пидорас</td>\n",
              "      <td>0.990603</td>\n",
              "    </tr>\n",
              "    <tr>\n",
              "      <th>19940</th>\n",
              "      <td>уебищный</td>\n",
              "      <td>0.990603</td>\n",
              "    </tr>\n",
              "    <tr>\n",
              "      <th>7744</th>\n",
              "      <td>кремлеботов</td>\n",
              "      <td>0.990577</td>\n",
              "    </tr>\n",
              "    <tr>\n",
              "      <th>19783</th>\n",
              "      <td>ублюдков</td>\n",
              "      <td>0.990577</td>\n",
              "    </tr>\n",
              "    <tr>\n",
              "      <th>17865</th>\n",
              "      <td>совкодрочеры</td>\n",
              "      <td>0.990574</td>\n",
              "    </tr>\n",
              "    <tr>\n",
              "      <th>12692</th>\n",
              "      <td>пидарасами</td>\n",
              "      <td>0.990563</td>\n",
              "    </tr>\n",
              "    <tr>\n",
              "      <th>12698</th>\n",
              "      <td>пидорка</td>\n",
              "      <td>0.990563</td>\n",
              "    </tr>\n",
              "    <tr>\n",
              "      <th>4790</th>\n",
              "      <td>дэбил</td>\n",
              "      <td>0.990544</td>\n",
              "    </tr>\n",
              "    <tr>\n",
              "      <th>3899</th>\n",
              "      <td>дебилов</td>\n",
              "      <td>0.990456</td>\n",
              "    </tr>\n",
              "    <tr>\n",
              "      <th>19088</th>\n",
              "      <td>твареныш</td>\n",
              "      <td>0.990367</td>\n",
              "    </tr>\n",
              "    <tr>\n",
              "      <th>344</th>\n",
              "      <td>анального</td>\n",
              "      <td>0.988751</td>\n",
              "    </tr>\n",
              "  </tbody>\n",
              "</table>\n",
              "</div>"
            ],
            "text/plain": [
              "                     word  toxicity\n",
              "12400          педерастов  0.990629\n",
              "19785          ублюдочных  0.990629\n",
              "12721            пиндосов  0.990628\n",
              "19784             ублюдок  0.990627\n",
              "4806             ебанутых  0.990624\n",
              "20263  уродуйбезкультурье  0.990622\n",
              "2923              выродки  0.990622\n",
              "4428           долбоящеры  0.990617\n",
              "12720            пиндосии  0.990608\n",
              "12697             пидорас  0.990603\n",
              "19940            уебищный  0.990603\n",
              "7744          кремлеботов  0.990577\n",
              "19783            ублюдков  0.990577\n",
              "17865        совкодрочеры  0.990574\n",
              "12692          пидарасами  0.990563\n",
              "12698             пидорка  0.990563\n",
              "4790                дэбил  0.990544\n",
              "3899              дебилов  0.990456\n",
              "19088            твареныш  0.990367\n",
              "344             анального  0.988751"
            ]
          },
          "metadata": {},
          "execution_count": 15
        }
      ]
    },
    {
      "cell_type": "code",
      "metadata": {
        "id": "VJ2vzuZ4vmMN",
        "colab": {
          "base_uri": "https://localhost:8080/"
        },
        "outputId": "73e633a5-48fe-4e79-b827-2fd53fc81ff9"
      },
      "source": [
        "import gensim\n",
        "from pymystem3 import Mystem\n",
        "\n",
        "stemmer = Mystem()"
      ],
      "id": "VJ2vzuZ4vmMN",
      "execution_count": 16,
      "outputs": [
        {
          "output_type": "stream",
          "name": "stderr",
          "text": [
            "Installing mystem to /root/.local/bin/mystem from http://download.cdn.yandex.net/mystem/mystem-3.1-linux-64bit.tar.gz\n"
          ]
        }
      ]
    },
    {
      "cell_type": "code",
      "metadata": {
        "id": "fMECnlqVvmMN"
      },
      "source": [
        "embs_file = np.load('/content/drive/MyDrive/Yandex-MLCup-2021/nlp/embeddings_with_lemmas.npz', allow_pickle=True)\n",
        "embs_vectors = embs_file['vectors']\n",
        "embs_vectors_normed = embs_vectors / np.linalg.norm(embs_vectors, axis=1, keepdims=True)\n",
        "embs_voc = embs_file['voc'].item()\n",
        "\n",
        "embs_voc_by_id = [None for i in range(len(embs_vectors))]\n",
        "for word, idx in embs_voc.items():\n",
        "    if embs_voc_by_id[idx] is None:\n",
        "        embs_voc_by_id[idx] = word"
      ],
      "id": "fMECnlqVvmMN",
      "execution_count": 17,
      "outputs": []
    },
    {
      "cell_type": "code",
      "metadata": {
        "id": "njb5S0RLvmMN"
      },
      "source": [
        "def get_w2v_indicies(a):\n",
        "    res = []\n",
        "    if isinstance(a, str):\n",
        "        a = a.split()\n",
        "    for w in a:\n",
        "        if w in embs_voc:\n",
        "            res.append(embs_voc[w])\n",
        "        else:\n",
        "            lemma = stemmer.lemmatize(w)[0]\n",
        "            res.append(embs_voc.get(lemma, None))\n",
        "    return res\n",
        "\n",
        "def calc_embs(words):\n",
        "    words = ' '.join(map(normalize, words))\n",
        "    inds = get_w2v_indicies(words)\n",
        "    return [None if i is None else embs_vectors[i] for i in inds]"
      ],
      "id": "njb5S0RLvmMN",
      "execution_count": 18,
      "outputs": []
    },
    {
      "cell_type": "markdown",
      "metadata": {
        "id": "MK9Nfsk6vmMO"
      },
      "source": [
        "Сложим эмбеддинги нетоксичных слов в kd-дерево, чтобы можно было близко искать ближайших соседей"
      ],
      "id": "MK9Nfsk6vmMO"
    },
    {
      "cell_type": "code",
      "metadata": {
        "id": "zyfi95sMvmMO"
      },
      "source": [
        "nontoxic_emb_inds = [ind for word, ind in embs_voc.items() if toxicity.get(word, 1.0) <= 0.5]\n",
        "embs_vectors_normed_nontoxic = embs_vectors_normed[nontoxic_emb_inds]"
      ],
      "id": "zyfi95sMvmMO",
      "execution_count": 19,
      "outputs": []
    },
    {
      "cell_type": "code",
      "metadata": {
        "id": "dlKrapAYvmMO"
      },
      "source": [
        "from sklearn.neighbors import KDTree\n",
        "embs_tree = KDTree(embs_vectors_normed_nontoxic, leaf_size=20)"
      ],
      "id": "dlKrapAYvmMO",
      "execution_count": 20,
      "outputs": []
    },
    {
      "cell_type": "markdown",
      "metadata": {
        "id": "NrGS7MJ6vmMP"
      },
      "source": [
        "Функция находит самое близкое нетоксичное слово по предпосчитанным эмбеддингам слов"
      ],
      "id": "NrGS7MJ6vmMP"
    },
    {
      "cell_type": "code",
      "metadata": {
        "id": "a4qxfrlnvmMP"
      },
      "source": [
        "from functools import lru_cache\n",
        "\n",
        "@lru_cache()\n",
        "def find_closest_nontoxic(word, threshold=0.5, allow_self=False):\n",
        "    if toxicity.get(word, 1.0) <= threshold:\n",
        "        return word\n",
        "    \n",
        "    if word not in toxicity and word not in embs_voc:\n",
        "        return None\n",
        "    \n",
        "    threshold = min(toxicity.get(word, threshold), threshold)\n",
        "    word = normalize(word)\n",
        "    word_emb = calc_embs([word])\n",
        "    if word_emb is None or word_emb[0] is None:\n",
        "        return None\n",
        "    \n",
        "    for i in embs_tree.query(word_emb)[1][0]:\n",
        "        other_word = embs_voc_by_id[nontoxic_emb_inds[i]]\n",
        "        if (other_word != word or allow_self) and toxicity.get(other_word, 1.0) <= threshold:\n",
        "            return other_word\n",
        "    return None"
      ],
      "id": "a4qxfrlnvmMP",
      "execution_count": 21,
      "outputs": []
    },
    {
      "cell_type": "markdown",
      "metadata": {
        "id": "oKXCXHVfvmMP"
      },
      "source": [
        "Заменяем токсичные слова на ближайшие по эмбеддингам не-токсичные"
      ],
      "id": "oKXCXHVfvmMP"
    },
    {
      "cell_type": "code",
      "metadata": {
        "id": "7uKw3HJMvmMQ"
      },
      "source": [
        "def detox(line):\n",
        "    words = normalize(line).split()\n",
        "    fixed_words = [find_closest_nontoxic(word, allow_self=True) or '' for word in words]\n",
        "    return ' '.join(fixed_words)"
      ],
      "id": "7uKw3HJMvmMQ",
      "execution_count": 22,
      "outputs": []
    },
    {
      "cell_type": "code",
      "metadata": {
        "id": "zCIikLJUvmMQ",
        "colab": {
          "base_uri": "https://localhost:8080/",
          "height": 49,
          "referenced_widgets": [
            "0d1b823a3c6447a292f15aed79c7d76b",
            "241fe047fb8345f0b726cbf037d7a536",
            "5697c4d58e4947a88feb09a86de64b32",
            "15552653cf59471690b9720a5a73dc52",
            "fbc0bda107474b49bb84f1d6f7ca4171",
            "43237e4fea4f4dd6a70f8cad205dc92f",
            "5846910703ac4ce0b2cbd068a35d52c2",
            "1f4a97dd54284a57a54d03750e555ae2",
            "0c261a2daae54a8e9fe7e59dc6cbb34f",
            "24a27e51047d4dbfa6f1426ee32a5ac1",
            "96cbbfceee974200ba15e08d8299b2fb"
          ]
        },
        "outputId": "905658a0-762f-4448-d27d-f43396d364d8"
      },
      "source": [
        "fixed_texts = list(map(detox, tqdm(texts)))"
      ],
      "id": "zCIikLJUvmMQ",
      "execution_count": null,
      "outputs": [
        {
          "output_type": "display_data",
          "data": {
            "application/vnd.jupyter.widget-view+json": {
              "model_id": "0d1b823a3c6447a292f15aed79c7d76b",
              "version_minor": 0,
              "version_major": 2
            },
            "text/plain": [
              "  0%|          | 0/2500 [00:00<?, ?it/s]"
            ]
          },
          "metadata": {}
        }
      ]
    },
    {
      "cell_type": "markdown",
      "metadata": {
        "id": "9vgAHiLcvmMQ"
      },
      "source": [
        "запишем результат в файл"
      ],
      "id": "9vgAHiLcvmMQ"
    },
    {
      "cell_type": "code",
      "metadata": {
        "id": "bkzvDIe-vmMQ"
      },
      "source": [
        "with open('baseline_fixed.txt', 'wt') as f:\n",
        "    for text in fixed_texts:\n",
        "        print(text, file=f)"
      ],
      "id": "bkzvDIe-vmMQ",
      "execution_count": null,
      "outputs": []
    },
    {
      "cell_type": "markdown",
      "metadata": {
        "id": "nNsuHrcyvmMR"
      },
      "source": [
        "Скор, если никак не изменять комментарии:"
      ],
      "id": "nNsuHrcyvmMR"
    },
    {
      "cell_type": "code",
      "metadata": {
        "id": "3nvFanNHvmMR",
        "outputId": "9531a6ad-b90b-4652-fa84-6c14d013a5c8"
      },
      "source": [
        "!python3.7 score.py public_testset.short.txt public_testset.short.txt  --embeddings embeddings_with_lemmas.npz --lm lm.binary --model ./trained_roberta/ --device cuda --score -"
      ],
      "id": "3nvFanNHvmMR",
      "execution_count": null,
      "outputs": [
        {
          "name": "stdout",
          "output_type": "stream",
          "text": [
            "/home/dimdi-y/.local/lib/python3.7/site-packages/requests/__init__.py:104: RequestsDependencyWarning: urllib3 (1.26.6) or chardet (2.3.0)/charset_normalizer (2.0.4) doesn't match a supported version!\n",
            "  RequestsDependencyWarning)\n",
            "Loading tokenizer\n",
            "Loading model\n",
            "Loading texts\n",
            "Loading LM\n",
            "Loading embeddings\n",
            "Scoring\n",
            " 10%|████                                    | 50/500.0 [00:01<00:15, 29.21it/s]Token indices sequence length is longer than the specified maximum sequence length for this model (534 > 512). Running this sequence through the model will result in indexing errors\n",
            "100%|███████████████████████████████████████| 500/500.0 [00:20<00:00, 24.28it/s]\n",
            "2500it [00:26, 95.03it/s] \n",
            "average toxicity: 0.6330938\n",
            "mean lmdiff: 1.0\n",
            "mean distance_score: 1.0\n",
            "36.69\n"
          ]
        }
      ]
    },
    {
      "cell_type": "markdown",
      "metadata": {
        "id": "XeNLUlXrvmMR"
      },
      "source": [
        "Скор бейзлайна:"
      ],
      "id": "XeNLUlXrvmMR"
    },
    {
      "cell_type": "code",
      "metadata": {
        "id": "5z3G9ujxvmMR",
        "outputId": "36edd752-abc1-463c-c1e0-2dd0442a747a"
      },
      "source": [
        "!python3.7 score.py public_testset.short.txt baseline_fixed.txt  --embeddings embeddings_with_lemmas.npz --lm lm.binary --model ./trained_roberta/ --device cuda --score -"
      ],
      "id": "5z3G9ujxvmMR",
      "execution_count": null,
      "outputs": [
        {
          "name": "stdout",
          "output_type": "stream",
          "text": [
            "/home/dimdi-y/.local/lib/python3.7/site-packages/requests/__init__.py:104: RequestsDependencyWarning: urllib3 (1.26.6) or chardet (2.3.0)/charset_normalizer (2.0.4) doesn't match a supported version!\n",
            "  RequestsDependencyWarning)\n",
            "Loading tokenizer\n",
            "Loading model\n",
            "Loading texts\n",
            "Loading LM\n",
            "Loading embeddings\n",
            "Scoring\n",
            " 20%|███████▊                               | 100/500.0 [00:03<00:14, 27.69it/s]Token indices sequence length is longer than the specified maximum sequence length for this model (593 > 512). Running this sequence through the model will result in indexing errors\n",
            "100%|███████████████████████████████████████| 500/500.0 [00:19<00:00, 25.01it/s]\n",
            "2500it [00:40, 62.24it/s]\n",
            "average toxicity: 0.46444112\n",
            "mean lmdiff: 0.9444674231112382\n",
            "mean distance_score: 0.8119417961430562\n",
            "42.11\n"
          ]
        }
      ]
    },
    {
      "cell_type": "markdown",
      "metadata": {
        "id": "8FzHygdgvmMR"
      },
      "source": [
        "Сохраним данные для бейзлайна online-задачи"
      ],
      "id": "8FzHygdgvmMR"
    },
    {
      "cell_type": "code",
      "metadata": {
        "id": "He6ISlXHvmMR"
      },
      "source": [
        "!mkdir -p online_baseline"
      ],
      "id": "He6ISlXHvmMR",
      "execution_count": null,
      "outputs": []
    },
    {
      "cell_type": "code",
      "metadata": {
        "id": "6ou3bAbIvmMS"
      },
      "source": [
        "import pickle as pkl\n",
        "\n",
        "with open('./online_baseline/data.pkl', 'wb') as f:\n",
        "    pkl.dump(toxicity, f)\n",
        "    pkl.dump(nontoxic_emb_inds, f)"
      ],
      "id": "6ou3bAbIvmMS",
      "execution_count": null,
      "outputs": []
    }
  ]
}